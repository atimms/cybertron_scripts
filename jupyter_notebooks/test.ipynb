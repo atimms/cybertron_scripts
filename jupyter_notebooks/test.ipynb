{
 "cells": [
  {
   "cell_type": "code",
   "execution_count": 1,
   "metadata": {},
   "outputs": [
    {
     "name": "stdout",
     "output_type": "stream",
     "text": [
      "/depot/apps/python/3.8.0/bin/python\n"
     ]
    }
   ],
   "source": [
    "!which python"
   ]
  },
  {
   "cell_type": "code",
   "execution_count": 2,
   "metadata": {},
   "outputs": [
    {
     "name": "stdout",
     "output_type": "stream",
     "text": [
      "/home/atimms/programs/miniconda3/condabin/conda\n"
     ]
    }
   ],
   "source": [
    "!which conda"
   ]
  },
  {
   "cell_type": "code",
   "execution_count": 3,
   "metadata": {},
   "outputs": [
    {
     "name": "stdout",
     "output_type": "stream",
     "text": [
      "# conda environments:\n",
      "#\n",
      "                         /home/atimms/.local/share/r-miniconda\n",
      "                         /home/atimms/.local/share/r-miniconda/envs/r-reticulate\n",
      "                         /home/atimms/miniconda2\n",
      "                         /home/atimms/miniconda2/envs/cnvkit93\n",
      "                         /home/atimms/miniconda2/envs/cnvkit95\n",
      "                         /home/atimms/miniconda2/envs/crcmod\n",
      "                         /home/atimms/miniconda2/envs/ximmer\n",
      "                         /home/atimms/miniconda3\n",
      "                         /home/atimms/miniconda3/envs/cnvkit\n",
      "                         /home/atimms/miniconda3/envs/cnvkit93\n",
      "                         /home/atimms/miniconda3/envs/cnvkit95\n",
      "                         /home/atimms/miniconda3/envs/deeptools\n",
      "                         /home/atimms/miniconda3/envs/hg38_genomes\n",
      "                         /home/atimms/miniconda3/envs/macs2\n",
      "                         /home/atimms/miniconda3/envs/scrublet\n",
      "                         /home/atimms/miniconda3/envs/sinto\n",
      "                         /home/atimms/miniconda3/envs/xengsort\n",
      "base                  *  /home/atimms/programs/miniconda3\n",
      "ml1                      /home/atimms/programs/miniconda3/envs/ml1\n",
      "\n"
     ]
    }
   ],
   "source": [
    "!conda env list"
   ]
  },
  {
   "cell_type": "code",
   "execution_count": 4,
   "metadata": {},
   "outputs": [
    {
     "name": "stdout",
     "output_type": "stream",
     "text": [
      "esa_week1\t   mnt\t\t       pbs_logs        scripts\n",
      "git\t\t   modulefiles\t       pbs_scripts     singularity_containers\n",
      "globus_dls\t   modules_061918.txt  programs        split_seq_reqs\n",
      "jupyter_notebooks  ngs_data\t       python_scripts  tmp\n",
      "miniconda2\t   old_condas\t       R\n",
      "miniconda3\t   ondemand\t       r_scripts\n"
     ]
    }
   ],
   "source": [
    "!ls"
   ]
  },
  {
   "cell_type": "code",
   "execution_count": 6,
   "metadata": {},
   "outputs": [
    {
     "ename": "FileNotFoundError",
     "evalue": "[Errno 2] No such file or directory: '~/jupyter_notebooks'",
     "output_type": "error",
     "traceback": [
      "\u001b[0;31m---------------------------------------------------------------------------\u001b[0m",
      "\u001b[0;31mFileNotFoundError\u001b[0m                         Traceback (most recent call last)",
      "\u001b[0;32m<ipython-input-6-1ff0e583d1c7>\u001b[0m in \u001b[0;36m<module>\u001b[0;34m\u001b[0m\n\u001b[1;32m      1\u001b[0m \u001b[0;32mimport\u001b[0m \u001b[0mos\u001b[0m\u001b[0;34m\u001b[0m\u001b[0;34m\u001b[0m\u001b[0m\n\u001b[0;32m----> 2\u001b[0;31m \u001b[0mos\u001b[0m\u001b[0;34m.\u001b[0m\u001b[0mchdir\u001b[0m\u001b[0;34m(\u001b[0m\u001b[0;34m'~/jupyter_notebooks'\u001b[0m\u001b[0;34m)\u001b[0m\u001b[0;34m\u001b[0m\u001b[0;34m\u001b[0m\u001b[0m\n\u001b[0m",
      "\u001b[0;31mFileNotFoundError\u001b[0m: [Errno 2] No such file or directory: '~/jupyter_notebooks'"
     ]
    }
   ],
   "source": [
    "import os\n",
    "os.chdir('~/jupyter_notebooks')"
   ]
  },
  {
   "cell_type": "code",
   "execution_count": null,
   "metadata": {},
   "outputs": [],
   "source": []
  }
 ],
 "metadata": {
  "kernelspec": {
   "display_name": "Python 3",
   "language": "python",
   "name": "python3"
  },
  "language_info": {
   "codemirror_mode": {
    "name": "ipython",
    "version": 3
   },
   "file_extension": ".py",
   "mimetype": "text/x-python",
   "name": "python",
   "nbconvert_exporter": "python",
   "pygments_lexer": "ipython3",
   "version": "3.7.9"
  }
 },
 "nbformat": 4,
 "nbformat_minor": 4
}
