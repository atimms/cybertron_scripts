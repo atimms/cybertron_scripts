{
 "cells": [
  {
   "cell_type": "code",
   "execution_count": 28,
   "metadata": {},
   "outputs": [
    {
     "name": "stdout",
     "output_type": "stream",
     "text": [
      "Setup Complete\n"
     ]
    }
   ],
   "source": [
    "##set up environment\n",
    "\n",
    "##import libraries\n",
    "import pandas as pd\n",
    "pd.plotting.register_matplotlib_converters()\n",
    "import os\n",
    "\n",
    "##go to folder\n",
    "os.chdir('/home/atimms/ngs_data/exomes/working/cunn_exome_1120')\n",
    "\n",
    "##use matplotlib\n",
    "import matplotlib.pyplot as plt\n",
    "%matplotlib inline\n",
    "#pip install seaborn\n",
    "import seaborn as sns\n",
    "print(\"Setup Complete\")\n",
    "import numpy as np"
   ]
  },
  {
   "cell_type": "code",
   "execution_count": 20,
   "metadata": {},
   "outputs": [],
   "source": [
    "cov_data = pd.read_table('AK-01-111.bt_cov.chr18_15-130mb.txt')\n",
    "cov_data.columns=[\"chr\", \"start\", \"end\", \"AK1a\", \"AK1u\", \"AK2u\", 'AK3u']"
   ]
  },
  {
   "cell_type": "code",
   "execution_count": 31,
   "metadata": {},
   "outputs": [
    {
     "data": {
      "text/plain": [
       "(1365, 7)"
      ]
     },
     "execution_count": 31,
     "metadata": {},
     "output_type": "execute_result"
    }
   ],
   "source": [
    "cov_data.head()\n",
    "cov_data.shape"
   ]
  },
  {
   "cell_type": "code",
   "execution_count": 57,
   "metadata": {},
   "outputs": [
    {
     "data": {
      "text/html": [
       "<div>\n",
       "<style scoped>\n",
       "    .dataframe tbody tr th:only-of-type {\n",
       "        vertical-align: middle;\n",
       "    }\n",
       "\n",
       "    .dataframe tbody tr th {\n",
       "        vertical-align: top;\n",
       "    }\n",
       "\n",
       "    .dataframe thead th {\n",
       "        text-align: right;\n",
       "    }\n",
       "</style>\n",
       "<table border=\"1\" class=\"dataframe\">\n",
       "  <thead>\n",
       "    <tr style=\"text-align: right;\">\n",
       "      <th></th>\n",
       "      <th>chr</th>\n",
       "      <th>start</th>\n",
       "      <th>end</th>\n",
       "      <th>AK1a</th>\n",
       "      <th>AK1u</th>\n",
       "      <th>AK2u</th>\n",
       "      <th>AK3u</th>\n",
       "    </tr>\n",
       "  </thead>\n",
       "  <tbody>\n",
       "    <tr>\n",
       "      <th>0</th>\n",
       "      <td>8.0</td>\n",
       "      <td>16558844.06</td>\n",
       "      <td>16559302.26</td>\n",
       "      <td>90.12</td>\n",
       "      <td>113.15</td>\n",
       "      <td>65.70</td>\n",
       "      <td>119.34</td>\n",
       "    </tr>\n",
       "    <tr>\n",
       "      <th>1</th>\n",
       "      <td>8.0</td>\n",
       "      <td>17658645.66</td>\n",
       "      <td>17658923.78</td>\n",
       "      <td>125.30</td>\n",
       "      <td>156.75</td>\n",
       "      <td>81.59</td>\n",
       "      <td>146.67</td>\n",
       "    </tr>\n",
       "    <tr>\n",
       "      <th>2</th>\n",
       "      <td>8.0</td>\n",
       "      <td>18766397.22</td>\n",
       "      <td>18766766.63</td>\n",
       "      <td>94.15</td>\n",
       "      <td>109.53</td>\n",
       "      <td>65.14</td>\n",
       "      <td>116.51</td>\n",
       "    </tr>\n",
       "    <tr>\n",
       "      <th>3</th>\n",
       "      <td>8.0</td>\n",
       "      <td>20513997.02</td>\n",
       "      <td>20514306.70</td>\n",
       "      <td>122.62</td>\n",
       "      <td>145.86</td>\n",
       "      <td>74.71</td>\n",
       "      <td>142.15</td>\n",
       "    </tr>\n",
       "    <tr>\n",
       "      <th>4</th>\n",
       "      <td>8.0</td>\n",
       "      <td>21924854.94</td>\n",
       "      <td>21925086.73</td>\n",
       "      <td>162.60</td>\n",
       "      <td>185.44</td>\n",
       "      <td>97.11</td>\n",
       "      <td>177.03</td>\n",
       "    </tr>\n",
       "  </tbody>\n",
       "</table>\n",
       "</div>"
      ],
      "text/plain": [
       "   chr        start          end    AK1a    AK1u   AK2u    AK3u\n",
       "0  8.0  16558844.06  16559302.26   90.12  113.15  65.70  119.34\n",
       "1  8.0  17658645.66  17658923.78  125.30  156.75  81.59  146.67\n",
       "2  8.0  18766397.22  18766766.63   94.15  109.53  65.14  116.51\n",
       "3  8.0  20513997.02  20514306.70  122.62  145.86  74.71  142.15\n",
       "4  8.0  21924854.94  21925086.73  162.60  185.44  97.11  177.03"
      ]
     },
     "execution_count": 57,
     "metadata": {},
     "output_type": "execute_result"
    }
   ],
   "source": [
    "average_exons = cov_data.groupby(np.arange(len(cov_data))//100).mean()\n",
    "average_exons.head()"
   ]
  },
  {
   "cell_type": "code",
   "execution_count": 58,
   "metadata": {},
   "outputs": [
    {
     "data": {
      "text/html": [
       "<div>\n",
       "<style scoped>\n",
       "    .dataframe tbody tr th:only-of-type {\n",
       "        vertical-align: middle;\n",
       "    }\n",
       "\n",
       "    .dataframe tbody tr th {\n",
       "        vertical-align: top;\n",
       "    }\n",
       "\n",
       "    .dataframe thead th {\n",
       "        text-align: right;\n",
       "    }\n",
       "</style>\n",
       "<table border=\"1\" class=\"dataframe\">\n",
       "  <thead>\n",
       "    <tr style=\"text-align: right;\">\n",
       "      <th></th>\n",
       "      <th>start</th>\n",
       "      <th>individual</th>\n",
       "      <th>norm_coverage</th>\n",
       "    </tr>\n",
       "  </thead>\n",
       "  <tbody>\n",
       "    <tr>\n",
       "      <th>0</th>\n",
       "      <td>16558844.06</td>\n",
       "      <td>AK1a_norm</td>\n",
       "      <td>1.243763</td>\n",
       "    </tr>\n",
       "    <tr>\n",
       "      <th>1</th>\n",
       "      <td>17658645.66</td>\n",
       "      <td>AK1a_norm</td>\n",
       "      <td>1.729289</td>\n",
       "    </tr>\n",
       "    <tr>\n",
       "      <th>2</th>\n",
       "      <td>18766397.22</td>\n",
       "      <td>AK1a_norm</td>\n",
       "      <td>1.299382</td>\n",
       "    </tr>\n",
       "    <tr>\n",
       "      <th>3</th>\n",
       "      <td>20513997.02</td>\n",
       "      <td>AK1a_norm</td>\n",
       "      <td>1.692302</td>\n",
       "    </tr>\n",
       "    <tr>\n",
       "      <th>4</th>\n",
       "      <td>21924854.94</td>\n",
       "      <td>AK1a_norm</td>\n",
       "      <td>2.244073</td>\n",
       "    </tr>\n",
       "  </tbody>\n",
       "</table>\n",
       "</div>"
      ],
      "text/plain": [
       "         start individual  norm_coverage\n",
       "0  16558844.06  AK1a_norm       1.243763\n",
       "1  17658645.66  AK1a_norm       1.729289\n",
       "2  18766397.22  AK1a_norm       1.299382\n",
       "3  20513997.02  AK1a_norm       1.692302\n",
       "4  21924854.94  AK1a_norm       2.244073"
      ]
     },
     "execution_count": 58,
     "metadata": {},
     "output_type": "execute_result"
    }
   ],
   "source": [
    "##garphing raw data is really hard to see\n",
    "# data_to_graph = cov_data[['start','AK1a','AK1u','AK2u','AK3u' ]]\n",
    "# data_to_graph = pd.melt(data_to_graph,id_vars=['start'],var_name='individual', value_name='coverage')\n",
    "# data_to_graph.head()\n",
    "\n",
    "##normalize by exome coverage\n",
    "average_exons[\"AK1a_norm\"] = average_exons['AK1a']/72.457533495\n",
    "average_exons[\"AK1u_norm\"] = average_exons['AK1u']/86.6383640005\n",
    "average_exons[\"AK2u_norm\"] = average_exons['AK2u']/58.469567601\n",
    "average_exons[\"AK3u_norm\"] = average_exons['AK3u']/117.81746709\n",
    "average_exons.head()\n",
    "data_to_graph = average_exons[['start','AK1a_norm','AK1u_norm','AK2u_norm','AK3u_norm' ]]\n",
    "data_to_graph = pd.melt(data_to_graph,id_vars=['start'],var_name='individual', value_name='norm_coverage')\n",
    "data_to_graph.head()\n"
   ]
  },
  {
   "cell_type": "code",
   "execution_count": 59,
   "metadata": {},
   "outputs": [
    {
     "data": {
      "image/png": "[encoded data removed]",
      "text/plain": [
       "<Figure size 453.125x360 with 1 Axes>"
      ]
     },
     "metadata": {
      "needs_background": "light"
     },
     "output_type": "display_data"
    }
   ],
   "source": [
    "#data_to_graph = cov_data[]\n",
    "#sns.lineplot(data=cov_data[1a, 1u])\n",
    "\n",
    "g = sns.relplot(x=\"start\", y=\"norm_coverage\", hue=\"individual\", kind=\"line\", data=data_to_graph)\n",
    "plt.savefig(\"AK-01-111.duplication_check.pdf\")"
   ]
  },
  {
   "cell_type": "code",
   "execution_count": null,
   "metadata": {},
   "outputs": [],
   "source": []
  },
  {
   "cell_type": "code",
   "execution_count": null,
   "metadata": {},
   "outputs": [],
   "source": []
  }
 ],
 "metadata": {
  "kernelspec": {
   "display_name": "Python 3",
   "language": "python",
   "name": "python3"
  },
  "language_info": {
   "codemirror_mode": {
    "name": "ipython",
    "version": 3
   },
   "file_extension": ".py",
   "mimetype": "text/x-python",
   "name": "python",
   "nbconvert_exporter": "python",
   "pygments_lexer": "ipython3",
   "version": "3.8.0"
  }
 },
 "nbformat": 4,
 "nbformat_minor": 4
}
