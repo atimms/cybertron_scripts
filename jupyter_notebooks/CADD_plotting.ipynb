{
 "cells": [
  {
   "cell_type": "code",
   "execution_count": 2,
   "metadata": {},
   "outputs": [],
   "source": [
    "##Cadd scoring plots"
   ]
  },
  {
   "cell_type": "code",
   "execution_count": 2,
   "metadata": {},
   "outputs": [],
   "source": [
    "import pandas as pd\n",
    "import numpy as np\n",
    "import math\n",
    "import matplotlib.pyplot as plt\n",
    "plt.rcParams.update({'font.size': 16})\n",
    "from matplotlib.pyplot import figure\n",
    "import matplotlib.colors as mcolors\n",
    "from pylab import cm"
   ]
  },
  {
   "cell_type": "code",
   "execution_count": 3,
   "metadata": {},
   "outputs": [],
   "source": [
    "df = pd.read_csv('/active/cherry_t/Leah/Analyses/gkm_svm/RandNeg_analysis/AltKernel/vcf/dsvm_cadd_soresmerge_nozeros.txt', delimiter='\\t', low_memory=False, header=None)"
   ]
  },
  {
   "cell_type": "code",
   "execution_count": 4,
   "metadata": {},
   "outputs": [],
   "source": [
    "# cleaning\n",
    "df.columns = ['Chr', 'Start', 'Ref', 'Alt', 'ID', 'DSVM', 'CADD_raw', 'CADD_phred']\n",
    "df[\"CADD_raw\"] = pd.to_numeric(df[\"CADD_raw\"])\n",
    "df[\"CADD_phylop\"] = pd.to_numeric(df[\"CADD_phred\"])"
   ]
  },
  {
   "cell_type": "code",
   "execution_count": 4,
   "metadata": {},
   "outputs": [],
   "source": [
    "# add PHRED scaled dsvm to df\n",
    "ranks = pd.Series.rank(df['DSVM'], ascending=False)\n",
    "phred = -10*np.log10(ranks/len(ranks))\n",
    "df.insert(7, 'PHRED', phred)\n",
    "\n",
    "# add absval dsvm and PHRED scaled absval dsvm to df\n",
    "abs_dsvm = abs(df['DSVM'])\n",
    "abs_ranks = pd.Series.rank(abs_dsvm, ascending=False)\n",
    "abs_phred = -10*np.log10(abs_ranks/len(abs_ranks))\n",
    "\n",
    "df.insert(8, 'ABS_DSVM', abs_dsvm)\n",
    "df.insert(9, 'ABS_PHRED', abs_phred)"
   ]
  },
  {
   "cell_type": "code",
   "execution_count": 5,
   "metadata": {},
   "outputs": [
    {
     "name": "stdout",
     "output_type": "stream",
     "text": [
      "(8476, 12)\n",
      "(19295301, 12)\n"
     ]
    }
   ],
   "source": [
    "print(df[df['DSVM'] > 10].shape)\n",
    "print(df.shape)"
   ]
  },
  {
   "cell_type": "markdown",
   "metadata": {},
   "source": [
    "##dSVM and CADD comparison phylop"
   ]
  },
  {
   "cell_type": "code",
   "execution_count": 6,
   "metadata": {},
   "outputs": [],
   "source": [
    "def getStats(bin_by, num_bins):\n",
    "    bins = np.linspace(df[bin_by].min(), df[bin_by].max(), num_bins)\n",
    "    groups = df.groupby(np.digitize(df[bin_by], bins))['CADD_phred']\n",
    "    binned_cadd_mean = groups.mean()\n",
    "    ci = 1.96*groups.sem()\n",
    "    return dict(CADD=binned_cadd_mean, ci=ci, bins=bins[binned_cadd_mean.index - 1])"
   ]
  },
  {
   "cell_type": "code",
   "execution_count": null,
   "metadata": {},
   "outputs": [],
   "source": []
  },
  {
   "cell_type": "code",
   "execution_count": 7,
   "metadata": {},
   "outputs": [],
   "source": [
    "statsDict = {}\n",
    "for i in [\"DSVM\", \"PHRED\", \"ABS_DSVM\", \"ABS_PHRED\"]:\n",
    "    statsDict[i] = getStats(i, 60)"
   ]
  },
  {
   "cell_type": "code",
   "execution_count": null,
   "metadata": {},
   "outputs": [],
   "source": [
    "f, (ax1, ax2) = plt.subplots(1, 2, sharey=True, figsize=(14,5))\n",
    "randsample = df.sample(n=1000)\n",
    "\n",
    "ax1.scatter(x=randsample['DSVM'], y=randsample['CADD_phred'], s=1)\n",
    "ax1.set_xlabel('deltaSVM')\n",
    "ax1.set_ylabel('CADD Score')\n",
    "\n",
    "\n",
    "ax2.scatter(x=randsample['ABS_DSVM'], y=randsample['CADD_phred'], s=1)\n",
    "ax2.set_xlabel('|deltaSVM|')\n",
    "ax2.set_ylabel('CADD Score')\n",
    "\n",
    "# plt.savefig('/active/cherry_t/Leah/Analyses/gkm_svm/RandNeg_analysis/AltKernel/DSVM_cadd_scatter.pdf')\n",
    "# plt.show()"
   ]
  },
  {
   "cell_type": "code",
   "execution_count": 9,
   "metadata": {},
   "outputs": [
    {
     "data": {
      "image/png": "[encoded data removed]",
      "text/plain": [
       "<Figure size 792x648 with 1 Axes>"
      ]
     },
     "metadata": {
      "needs_background": "light"
     },
     "output_type": "display_data"
    }
   ],
   "source": [
    "plt.figure(figsize=(11, 9))\n",
    "plt.rcParams.update({'font.size': 16})\n",
    "\n",
    "def plot_scatter(x, xlab, title):\n",
    "    plt.scatter(x=statsDict[x]['bins'], y=statsDict[x]['CADD'])\n",
    "    plt.errorbar(x=statsDict[x]['bins'], y=statsDict[x]['CADD'], yerr=statsDict[x]['ci'], ls='none')\n",
    "    plt.yscale(\"log\")\n",
    "    plt.xlabel(xlab)\n",
    "    plt.ylabel('Mean CADD Score')\n",
    "    plt.gca().spines['right'].set_visible(False)\n",
    "    plt.gca().spines['top'].set_visible(False)\n",
    "#     plt.title(title)\n",
    "\n",
    "plt.subplot(221)\n",
    "plt.xlim((-10,10))\n",
    "plt.ylim((7.000, 11))\n",
    "plot_scatter('DSVM', '$\\it{deltaSVM}$', 'Raw deltaSVM vs CADD')\n",
    "\n",
    "\n",
    "# plt.subplot(222)\n",
    "# plot_scatter('PHRED', 'Scaled deltaSVM', 'Scaled deltaSVM vs gnomAD AF')\n",
    "\n",
    "# plt.subplot(223)\n",
    "# plot_scatter('ABS_DSVM', '|deltaSVM|', 'absval deltaSVM vs gnomAD AF')\n",
    "# plt.xlim((0,6))\n",
    "# plt.ylim((0.002,0.008))\n",
    "\n",
    "# plt.subplot(224)\n",
    "# plot_scatter('ABS_PHRED', 'Scaled |deltaSVM|', 'Scaled absval deltaSVM vs gnomAD AF')\n",
    "\n",
    "plt.tight_layout()\n",
    "plt.savefig('/active/cherry_t/Leah/Analyses/gkm_svm/RandNeg_analysis/AltKernel/CADD_binnedDSVM_scatter.pdf')\n",
    "plt.show()"
   ]
  },
  {
   "cell_type": "code",
   "execution_count": null,
   "metadata": {},
   "outputs": [],
   "source": []
  }
 ],
 "metadata": {
  "kernelspec": {
   "display_name": "Python 3",
   "language": "python",
   "name": "python3"
  },
  "language_info": {
   "codemirror_mode": {
    "name": "ipython",
    "version": 3
   },
   "file_extension": ".py",
   "mimetype": "text/x-python",
   "name": "python",
   "nbconvert_exporter": "python",
   "pygments_lexer": "ipython3",
   "version": "3.9.1"
  }
 },
 "nbformat": 4,
 "nbformat_minor": 4
}
