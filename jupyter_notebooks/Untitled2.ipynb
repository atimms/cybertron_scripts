{
 "cells": [
  {
   "cell_type": "code",
   "execution_count": 1,
   "metadata": {},
   "outputs": [],
   "source": [
    "import subprocess\n",
    "import os\n",
    "import pandas as pd\n",
    "import numpy as np\n",
    "import matplotlib.pyplot as plt\n",
    "%matplotlib inline\n",
    "import seaborn as sns"
   ]
  },
  {
   "cell_type": "code",
   "execution_count": 2,
   "metadata": {},
   "outputs": [],
   "source": [
    "working_dir = '/home/atimms/ngs_data/misc/cherry_sc_org_project_20/cherry_scatac_corr_pairwise_0221'\n",
    "os.chdir(working_dir)"
   ]
  },
  {
   "cell_type": "code",
   "execution_count": 5,
   "metadata": {},
   "outputs": [
    {
     "data": {
      "image/png": "[encoded data removed]",
      "text/plain": [
       "<Figure size 432x288 with 1 Axes>"
      ]
     },
     "metadata": {
      "needs_background": "light"
     },
     "output_type": "display_data"
    }
   ],
   "source": [
    "int_file = 'rods_correlation.500d.2000size.macs2_q0.01_summits.txt'\n",
    "int_data = pd.read_table(int_file, index_col=0 )\n",
    "# print(int_data)\n",
    "# plt.figure(1, figsize=(9, 6))\n",
    "ccs = list(int_data.columns)\n",
    "# ax = sns.regplot(x = int_data[ccs[0]], y = int_data[ccs[1]], fit_reg=False, truncate=True)\n",
    "# ax.set(yscale=\"log\")\n",
    "# ax.set(xscale=\"log\")\n",
    "\n",
    "# correlation = round(int_data[ccs[0]].corr(int_data[ccs[1]]),3)\n",
    "# ax = sns.regplot(x = int_data[ccs[0]], y = int_data[ccs[1]], fit_reg=False)\n",
    "# ax.set_xlim(1,)\n",
    "# ax.set_ylim(1,)\n",
    "# ax.set(xscale=\"log\", yscale=\"log\")\n",
    "# plt.title(\"Pearson's r = \" + str(correlation))\n",
    "# print(int_data[ccs[0]].corr(int_data[ccs[1]]))\n",
    "# plt.savefig('test.pdf')\n",
    "sns.regplot(x = int_data[ccs[0]], y = int_data[ccs[1]], fit_reg=False)\n",
    "plt.savefig('test.pdf')\n",
    "plt.show()"
   ]
  },
  {
   "cell_type": "code",
   "execution_count": null,
   "metadata": {},
   "outputs": [],
   "source": []
  },
  {
   "cell_type": "code",
   "execution_count": null,
   "metadata": {},
   "outputs": [],
   "source": []
  }
 ],
 "metadata": {
  "kernelspec": {
   "display_name": "Python 3",
   "language": "python",
   "name": "python3"
  },
  "language_info": {
   "codemirror_mode": {
    "name": "ipython",
    "version": 3
   },
   "file_extension": ".py",
   "mimetype": "text/x-python",
   "name": "python",
   "nbconvert_exporter": "python",
   "pygments_lexer": "ipython3",
   "version": "3.9.1"
  }
 },
 "nbformat": 4,
 "nbformat_minor": 4
}
