{
 "cells": [
  {
   "cell_type": "code",
   "execution_count": 2,
   "metadata": {},
   "outputs": [
    {
     "name": "stdout",
     "output_type": "stream",
     "text": [
      "Setup Complete\n"
     ]
    }
   ],
   "source": [
    "##using pd_np_plt_etc enviroment\n",
    "import subprocess\n",
    "import os\n",
    "import pandas as pd\n",
    "import numpy as np\n",
    "import matplotlib.pyplot as plt\n",
    "%matplotlib inline\n",
    "import seaborn as sns\n",
    "print(\"Setup Complete\")\n",
    "\n",
    "##go to folder\n",
    "os.chdir('/archive/mirzaa_g/exomes/result_files_0321/graphing_0321')"
   ]
  },
  {
   "cell_type": "code",
   "execution_count": null,
   "metadata": {},
   "outputs": [],
   "source": [
    "##got master ped tracking 031921, so import\n",
    "exome_data = pd.read_excel(\"master_ped_tracking_120920.xlsx\", \n",
    "                    sheet_name='Ped Tracking', index_col='family_id',\n",
    "     engine='openpyxl')\n",
    "\n",
    "# exome_data.head()\n",
    "exome_data.shape"
   ]
  },
  {
   "cell_type": "code",
   "execution_count": null,
   "metadata": {},
   "outputs": [],
   "source": [
    "##only use the families we want\n",
    "exome_data_red = exome_data.loc[exome_data['dbd_include'] == 1]\n",
    "exome_data_red.shape"
   ]
  },
  {
   "cell_type": "code",
   "execution_count": null,
   "metadata": {},
   "outputs": [],
   "source": [
    "##ped types\n",
    "ped_type_counts = exome_data_red.classification.value_counts()\n",
    "print(ped_type_counts)\n"
   ]
  },
  {
   "cell_type": "code",
   "execution_count": null,
   "metadata": {},
   "outputs": [],
   "source": [
    "##seaborn alt bar chart\n",
    "plt.title('pedigree classifications - all', fontsize =16)\n",
    "ped_type_counts = exome_data_red.classification.value_counts()\n",
    "sns.barplot(y=ped_type_counts.index, x=ped_type_counts, ci=None, orient='h', palette=\"colorblind\" )\n",
    "plt.savefig(\"all_pedigree_types.barchart.pdf\", bbox_inches=\"tight\")"
   ]
  },
  {
   "cell_type": "code",
   "execution_count": null,
   "metadata": {},
   "outputs": [],
   "source": [
    "##graph ped types, but combine some type... use apply\n",
    "def new_ped_type(row):\n",
    "    if row.classification == 'Trio*' or row.classification == 'Trio':\n",
    "        return 'trio'\n",
    "    elif row.classification == 'Singleton*' or row.classification == 'Singleton':\n",
    "        return 'singleton'\n",
    "    elif row.classification == 'Duo*' or row.classification == 'Duo':\n",
    "        return 'duo'\n",
    "    elif row.classification == 'Quad*' or row.classification == 'Quad':\n",
    "        return 'quad'\n",
    "    else:\n",
    "        return 'other'\n",
    "\n",
    "ped_types = exome_data_red.apply(new_ped_type, axis='columns')\n",
    "\n",
    "ped_type_counts = ped_types.value_counts()\n",
    "\n",
    "print(type(ped_type_counts))\n",
    "\n",
    "##barchart\n",
    "plt.title('pedigree classifications - reduced', fontsize =16)\n",
    "sns.set(font_scale=1) \n",
    "sns.barplot(y=ped_type_counts.index, x=ped_type_counts, ci=None, palette=\"colorblind\",orient='h' )\n",
    "plt.savefig(\"reduced_pedigree_types.barchart.pdf\", bbox_inches=\"tight\")"
   ]
  },
  {
   "cell_type": "code",
   "execution_count": null,
   "metadata": {},
   "outputs": [],
   "source": [
    "##ethniticties -- all the same within pedigree\n",
    "# ped_type_counts = exome_data_red[\"Original ethnicity\"].value_counts()\n",
    "eth_type_counts = exome_data_red[\"NIH Ethnicity\"].str.split(',').str[0].value_counts()\n",
    "print(eth_type_counts)\n"
   ]
  },
  {
   "cell_type": "code",
   "execution_count": null,
   "metadata": {},
   "outputs": [],
   "source": [
    "##seaborn alt bar chart\n",
    "plt.title('ethnicity', fontsize =16)\n",
    "sns.barplot(y=eth_type_counts.index, x=eth_type_counts, ci=None, orient='h', palette=\"colorblind\" )\n",
    "plt.savefig(\"ethnicity_types.barchart.pdf\", bbox_inches=\"tight\")"
   ]
  },
  {
   "cell_type": "code",
   "execution_count": null,
   "metadata": {},
   "outputs": [],
   "source": [
    "##proband gender (just get first gender, may need to get all)\n",
    "gender_counts = exome_data_red[\"Gender* \"].str.split(',').str[0].value_counts()\n",
    "print(gender_counts)"
   ]
  },
  {
   "cell_type": "code",
   "execution_count": null,
   "metadata": {},
   "outputs": [],
   "source": [
    "##seaborn alt bar chart\n",
    "plt.title('gender - proband', fontsize =16)\n",
    "sns.barplot(y=gender_counts.index, x=gender_counts, ci=None, orient='h', palette=\"colorblind\" )\n",
    "plt.savefig(\"gender_proband.barchart.pdf\", bbox_inches=\"tight\")"
   ]
  },
  {
   "cell_type": "code",
   "execution_count": null,
   "metadata": {},
   "outputs": [],
   "source": [
    "##proband sample type (just get first gender, may need to get all)\n",
    "sample_counts = exome_data_red.proband_sample_type.str.split(',').str[0].str.split(' ').str[0].str.split('-').str[0].str.lower().value_counts()\n",
    "print(sample_counts)"
   ]
  },
  {
   "cell_type": "code",
   "execution_count": null,
   "metadata": {},
   "outputs": [],
   "source": [
    "##seaborn alt bar chart\n",
    "plt.title('sample - proband', fontsize =16)\n",
    "sns.barplot(y=sample_counts.index, x=sample_counts, ci=None, orient='h', palette=\"colorblind\" )\n",
    "plt.savefig(\"sample_type_proband.barchart.pdf\", bbox_inches=\"tight\")"
   ]
  },
  {
   "cell_type": "markdown",
   "metadata": {},
   "source": [
    "# next attempts 0421"
   ]
  },
  {
   "cell_type": "code",
   "execution_count": null,
   "metadata": {},
   "outputs": [],
   "source": [
    "##manually make tissue types i.e. get proband_sample_type column and replace , with \\n\n",
    "sample_info_file = 'sample_types_040521.txt'\n",
    "si = pd.read_csv(sample_info_file, delimiter='\\t')\n",
    "sample_counts = si.proband_sample_type.str.split(' ').str[0].value_counts()\n",
    "si.head()\n",
    "sample_counts"
   ]
  },
  {
   "cell_type": "code",
   "execution_count": null,
   "metadata": {},
   "outputs": [],
   "source": [
    "##seaborn alt bar chart\n",
    "plt.title('sample type', fontsize =16)\n",
    "sns.barplot(y=sample_counts.index, x=sample_counts, ci=None, orient='h', palette=\"colorblind\" )\n",
    "plt.savefig(\"sample_types_all.barchart.040521.pdf\", bbox_inches=\"tight\")"
   ]
  },
  {
   "cell_type": "code",
   "execution_count": null,
   "metadata": {},
   "outputs": [],
   "source": [
    "##manually make ped type from classification col of latest master\n",
    "ped_info_std_file = 'ped_types_gl_040521.txt'\n",
    "ped_info_mosaic_file = 'ped_types_mos_040521.txt'\n",
    "ped_info_comb_file = 'ped_types_combined_040521.txt'\n",
    "\n",
    "pis = pd.read_csv(ped_info_std_file, delimiter='\\t')\n",
    "pim = pd.read_csv(ped_info_mosaic_file, delimiter='\\t')\n",
    "pic = pd.read_csv(ped_info_comb_file, delimiter='\\t')\n",
    "sample_counts_std = pis.classification.str.split(' ').str[0].value_counts()\n",
    "sample_counts_mosaic = pim.classification.str.split(' ').str[0].value_counts()\n",
    "sample_counts_combined = pic.classification.str.split(' ').str[0].value_counts()\n",
    "sample_counts_mosaic\n"
   ]
  },
  {
   "cell_type": "code",
   "execution_count": null,
   "metadata": {},
   "outputs": [],
   "source": [
    "##seaborn alt bar chart - ped types standard\n",
    "plt.title('ped type - standard', fontsize =16)\n",
    "sns.barplot(y=sample_counts_std.index, x=sample_counts_std, ci=None, orient='h', palette=\"colorblind\" )\n",
    "plt.savefig(\"pedigree_types_standard.barchart.040521.pdf\", bbox_inches=\"tight\")\n"
   ]
  },
  {
   "cell_type": "code",
   "execution_count": null,
   "metadata": {},
   "outputs": [],
   "source": [
    "##seaborn alt bar chart - ped types mosaic\n",
    "plt.title('ped type - mosaic', fontsize =16)\n",
    "sns.barplot(y=sample_counts_mosaic.index, x=sample_counts_mosaic, ci=None, orient='h', palette=\"colorblind\" )\n",
    "plt.savefig(\"pedigree_types_mosaic.barchart.040521.pdf\", bbox_inches=\"tight\")"
   ]
  },
  {
   "cell_type": "code",
   "execution_count": null,
   "metadata": {},
   "outputs": [],
   "source": [
    "##seaborn alt bar chart - ped types combined and ordered\n",
    "plt.title('ped type - combined', fontsize =16)\n",
    "order_list = ['Trio', 'Singleton', 'Duo', 'Quad', 'Multiplex', 'Sibship', 'Parent-sibs', 'Trio*', 'Duo*', 'Singleton*']\n",
    "sns.barplot(y=sample_counts_combined.index, x=sample_counts_combined, ci=None, orient='h', palette=\"colorblind\", order=order_list )\n",
    "plt.savefig(\"pedigree_types_combined.barchart.040521.pdf\", bbox_inches=\"tight\")"
   ]
  },
  {
   "cell_type": "code",
   "execution_count": 3,
   "metadata": {},
   "outputs": [
    {
     "data": {
      "text/html": [
       "<div>\n",
       "<style scoped>\n",
       "    .dataframe tbody tr th:only-of-type {\n",
       "        vertical-align: middle;\n",
       "    }\n",
       "\n",
       "    .dataframe tbody tr th {\n",
       "        vertical-align: top;\n",
       "    }\n",
       "\n",
       "    .dataframe thead th {\n",
       "        text-align: right;\n",
       "    }\n",
       "</style>\n",
       "<table border=\"1\" class=\"dataframe\">\n",
       "  <thead>\n",
       "    <tr style=\"text-align: right;\">\n",
       "      <th></th>\n",
       "      <th>1 sample</th>\n",
       "      <th>2 or more samples</th>\n",
       "    </tr>\n",
       "    <tr>\n",
       "      <th>DxGroup1</th>\n",
       "      <th></th>\n",
       "      <th></th>\n",
       "    </tr>\n",
       "  </thead>\n",
       "  <tbody>\n",
       "    <tr>\n",
       "      <th>DEVN</th>\n",
       "      <td>35</td>\n",
       "      <td>1</td>\n",
       "    </tr>\n",
       "    <tr>\n",
       "      <th>MCD</th>\n",
       "      <td>74</td>\n",
       "      <td>5</td>\n",
       "    </tr>\n",
       "    <tr>\n",
       "      <th>MEG</th>\n",
       "      <td>77</td>\n",
       "      <td>30</td>\n",
       "    </tr>\n",
       "    <tr>\n",
       "      <th>MHM</th>\n",
       "      <td>181</td>\n",
       "      <td>4</td>\n",
       "    </tr>\n",
       "    <tr>\n",
       "      <th>MIC</th>\n",
       "      <td>91</td>\n",
       "      <td>2</td>\n",
       "    </tr>\n",
       "  </tbody>\n",
       "</table>\n",
       "</div>"
      ],
      "text/plain": [
       "          1 sample  2 or more samples\n",
       "DxGroup1                             \n",
       "DEVN            35                  1\n",
       "MCD             74                  5\n",
       "MEG             77                 30\n",
       "MHM            181                  4\n",
       "MIC             91                  2"
      ]
     },
     "execution_count": 3,
     "metadata": {},
     "output_type": "execute_result"
    }
   ],
   "source": [
    "##proband counts per ped - count per dx\n",
    "sample_info_file = 'proband_counts_dx_040521.txt'\n",
    "sample_counts_per_ped = pd.read_csv(sample_info_file, delimiter='\\t',index_col=\"DxGroup1\")\n",
    "sample_counts_per_ped.head()"
   ]
  },
  {
   "cell_type": "code",
   "execution_count": 4,
   "metadata": {},
   "outputs": [
    {
     "data": {
      "image/png": "[encoded data removed]",
      "text/plain": [
       "<Figure size 432x288 with 1 Axes>"
      ]
     },
     "metadata": {
      "needs_background": "light"
     },
     "output_type": "display_data"
    }
   ],
   "source": [
    "##then graph\n",
    "sample_counts_per_ped.plot(kind='bar',stacked=True)\n",
    "plt.savefig(\"proband_counts_per_dx.stacked_barchart.040521.pdf\", bbox_inches=\"tight\")"
   ]
  },
  {
   "cell_type": "code",
   "execution_count": null,
   "metadata": {},
   "outputs": [],
   "source": [
    "##manually make ethnicity i.e. get column\n",
    "ethnicity_info_file = 'ethnicity_per_ped_040521.txt'\n",
    "eth = pd.read_csv(ethnicity_info_file, delimiter='\\t')\n",
    "sample_counts = eth.Ethnicity.str.split(',').str[0].value_counts()\n",
    "sample_counts"
   ]
  },
  {
   "cell_type": "code",
   "execution_count": null,
   "metadata": {},
   "outputs": [],
   "source": [
    "##seaborn alt bar chart\n",
    "plt.title('ethnicity', fontsize =16)\n",
    "sns.barplot(y=sample_counts.index, x=sample_counts, ci=None, orient='h', palette=\"colorblind\" )\n",
    "plt.savefig(\"ethnicity.barchart.040521.pdf\", bbox_inches=\"tight\")"
   ]
  },
  {
   "cell_type": "code",
   "execution_count": null,
   "metadata": {},
   "outputs": [],
   "source": [
    "##manually make tissue types i.e. get proband_sample_type column and replace , with \\n\n",
    "gender_info_file = 'gender_040521.txt'\n",
    "gi = pd.read_csv(gender_info_file, delimiter='\\t')\n",
    "sample_counts = gi.Gender.str.split(' ').str[0].value_counts()\n",
    "si.head()\n",
    "sample_counts"
   ]
  },
  {
   "cell_type": "code",
   "execution_count": null,
   "metadata": {},
   "outputs": [],
   "source": [
    "##seaborn alt bar chart\n",
    "plt.title('gender', fontsize =16)\n",
    "sns.barplot(y=sample_counts.index, x=sample_counts, ci=None, orient='h', palette=\"colorblind\" )\n",
    "plt.savefig(\"gender.barchart.040521.pdf\", bbox_inches=\"tight\")"
   ]
  },
  {
   "cell_type": "code",
   "execution_count": null,
   "metadata": {},
   "outputs": [],
   "source": [
    "##coverage boxplots 0421\n",
    "cov_all_file = 'coverage_all_040721.txt'\n",
    "ca = pd.read_csv(cov_all_file, delimiter='\\t')\n",
    "cov_brain_file = 'coverage_brain_peds_040721.txt'\n",
    "cb = pd.read_csv(cov_brain_file, delimiter='\\t')\n",
    "cb.head()"
   ]
  },
  {
   "cell_type": "code",
   "execution_count": null,
   "metadata": {},
   "outputs": [],
   "source": [
    "##all samples coverage ped type\n",
    "plt.title('coverage ped type', fontsize =16)\n",
    "sns.boxplot( x=ca[\"ped_type\"], y=ca[\"coverage\"], palette=\"colorblind\")\n",
    "plt.xticks(rotation=45)\n",
    "plt.savefig(\"coverage.ped_type.boxplot.040721.pdf\", bbox_inches=\"tight\")"
   ]
  },
  {
   "cell_type": "code",
   "execution_count": null,
   "metadata": {},
   "outputs": [],
   "source": [
    "##all samples coverage sample type\n",
    "plt.title('coverage sample type', fontsize =16)\n",
    "sns.boxplot( x=ca[\"sample_type\"], y=ca[\"coverage\"], palette=\"colorblind\") \n",
    "plt.savefig(\"coverage.sample_type.boxplot.040721.pdf\", bbox_inches=\"tight\")"
   ]
  },
  {
   "cell_type": "code",
   "execution_count": null,
   "metadata": {},
   "outputs": [],
   "source": [
    "##all samples coverage dx\n",
    "plt.title('coverage dx', fontsize =16)\n",
    "sns.boxplot( x=ca[\"dx\"], y=ca[\"coverage\"], palette=\"colorblind\") \n",
    "plt.savefig(\"coverage.dx.boxplot.040721.pdf\", bbox_inches=\"tight\")"
   ]
  },
  {
   "cell_type": "code",
   "execution_count": null,
   "metadata": {},
   "outputs": [],
   "source": [
    "##brain peds coverage ped type\n",
    "plt.title('brain peds sample type', fontsize =16)\n",
    "sns.boxplot( x=cb[\"sample_type_alt\"], y=cb[\"coverage\"], palette=\"colorblind\") \n",
    "plt.savefig(\"coverage.sample_type_brain_peds.boxplot.040721.pdf\", bbox_inches=\"tight\")"
   ]
  },
  {
   "cell_type": "markdown",
   "metadata": {},
   "source": [
    "## 0520 look at solved rates etc"
   ]
  },
  {
   "cell_type": "code",
   "execution_count": 7,
   "metadata": {},
   "outputs": [
    {
     "data": {
      "text/html": [
       "<div>\n",
       "<style scoped>\n",
       "    .dataframe tbody tr th:only-of-type {\n",
       "        vertical-align: middle;\n",
       "    }\n",
       "\n",
       "    .dataframe tbody tr th {\n",
       "        vertical-align: top;\n",
       "    }\n",
       "\n",
       "    .dataframe thead th {\n",
       "        text-align: right;\n",
       "    }\n",
       "</style>\n",
       "<table border=\"1\" class=\"dataframe\">\n",
       "  <thead>\n",
       "    <tr style=\"text-align: right;\">\n",
       "      <th></th>\n",
       "      <th>counts</th>\n",
       "    </tr>\n",
       "    <tr>\n",
       "      <th>summary</th>\n",
       "      <th></th>\n",
       "    </tr>\n",
       "  </thead>\n",
       "  <tbody>\n",
       "    <tr>\n",
       "      <th>Explanatory</th>\n",
       "      <td>98</td>\n",
       "    </tr>\n",
       "    <tr>\n",
       "      <th>Explanatory (by another method)</th>\n",
       "      <td>13</td>\n",
       "    </tr>\n",
       "    <tr>\n",
       "      <th>Likely explanatory</th>\n",
       "      <td>80</td>\n",
       "    </tr>\n",
       "    <tr>\n",
       "      <th>Partially explanatory</th>\n",
       "      <td>13</td>\n",
       "    </tr>\n",
       "    <tr>\n",
       "      <th>Candidate gene</th>\n",
       "      <td>82</td>\n",
       "    </tr>\n",
       "  </tbody>\n",
       "</table>\n",
       "</div>"
      ],
      "text/plain": [
       "                                 counts\n",
       "summary                                \n",
       "Explanatory                          98\n",
       "Explanatory (by another method)      13\n",
       "Likely explanatory                   80\n",
       "Partially explanatory                13\n",
       "Candidate gene                       82"
      ]
     },
     "execution_count": 7,
     "metadata": {},
     "output_type": "execute_result"
    }
   ],
   "source": [
    "##total solved \n",
    "solved_info_file = 'solved_all.txt'\n",
    "solved_info = pd.read_csv(solved_info_file, delimiter='\\t',index_col=\"summary\")\n",
    "solved_info.head()"
   ]
  },
  {
   "cell_type": "code",
   "execution_count": 11,
   "metadata": {},
   "outputs": [
    {
     "data": {
      "image/png": "[encoded data removed]",
      "text/plain": [
       "<Figure size 432x288 with 1 Axes>"
      ]
     },
     "metadata": {
      "needs_background": "light"
     },
     "output_type": "display_data"
    }
   ],
   "source": [
    "##seaborn alt bar chart\n",
    "plt.title('solved', fontsize =16)\n",
    "sns.barplot(y=solved_info.index, x=solved_info[\"counts\"], orient='h', palette=\"colorblind\" )\n",
    "plt.savefig(\"solved_all.barchart.051321.pdf\", bbox_inches=\"tight\")"
   ]
  },
  {
   "cell_type": "code",
   "execution_count": 14,
   "metadata": {},
   "outputs": [
    {
     "data": {
      "text/html": [
       "<div>\n",
       "<style scoped>\n",
       "    .dataframe tbody tr th:only-of-type {\n",
       "        vertical-align: middle;\n",
       "    }\n",
       "\n",
       "    .dataframe tbody tr th {\n",
       "        vertical-align: top;\n",
       "    }\n",
       "\n",
       "    .dataframe thead th {\n",
       "        text-align: right;\n",
       "    }\n",
       "</style>\n",
       "<table border=\"1\" class=\"dataframe\">\n",
       "  <thead>\n",
       "    <tr style=\"text-align: right;\">\n",
       "      <th></th>\n",
       "      <th>Explanatory</th>\n",
       "      <th>Explanatory (by another method)</th>\n",
       "      <th>Likely explanatory</th>\n",
       "      <th>Partially explanatory</th>\n",
       "      <th>Candidate gene</th>\n",
       "      <th>Not explanatory</th>\n",
       "    </tr>\n",
       "    <tr>\n",
       "      <th>summary</th>\n",
       "      <th></th>\n",
       "      <th></th>\n",
       "      <th></th>\n",
       "      <th></th>\n",
       "      <th></th>\n",
       "      <th></th>\n",
       "    </tr>\n",
       "  </thead>\n",
       "  <tbody>\n",
       "    <tr>\n",
       "      <th>CTX</th>\n",
       "      <td>50</td>\n",
       "      <td>6</td>\n",
       "      <td>37</td>\n",
       "      <td>5</td>\n",
       "      <td>47</td>\n",
       "      <td>128</td>\n",
       "    </tr>\n",
       "    <tr>\n",
       "      <th>CBL</th>\n",
       "      <td>53</td>\n",
       "      <td>9</td>\n",
       "      <td>43</td>\n",
       "      <td>6</td>\n",
       "      <td>35</td>\n",
       "      <td>122</td>\n",
       "    </tr>\n",
       "    <tr>\n",
       "      <th>BS</th>\n",
       "      <td>22</td>\n",
       "      <td>4</td>\n",
       "      <td>19</td>\n",
       "      <td>5</td>\n",
       "      <td>14</td>\n",
       "      <td>47</td>\n",
       "    </tr>\n",
       "    <tr>\n",
       "      <th>BG-TH</th>\n",
       "      <td>8</td>\n",
       "      <td>0</td>\n",
       "      <td>8</td>\n",
       "      <td>1</td>\n",
       "      <td>10</td>\n",
       "      <td>20</td>\n",
       "    </tr>\n",
       "    <tr>\n",
       "      <th>CC</th>\n",
       "      <td>42</td>\n",
       "      <td>9</td>\n",
       "      <td>39</td>\n",
       "      <td>5</td>\n",
       "      <td>32</td>\n",
       "      <td>106</td>\n",
       "    </tr>\n",
       "  </tbody>\n",
       "</table>\n",
       "</div>"
      ],
      "text/plain": [
       "         Explanatory  Explanatory (by another method)  Likely explanatory  \\\n",
       "summary                                                                     \n",
       "CTX               50                                6                  37   \n",
       "CBL               53                                9                  43   \n",
       "BS                22                                4                  19   \n",
       "BG-TH              8                                0                   8   \n",
       "CC                42                                9                  39   \n",
       "\n",
       "         Partially explanatory  Candidate gene  Not explanatory  \n",
       "summary                                                          \n",
       "CTX                          5              47              128  \n",
       "CBL                          6              35              122  \n",
       "BS                           5              14               47  \n",
       "BG-TH                        1              10               20  \n",
       "CC                           5              32              106  "
      ]
     },
     "execution_count": 14,
     "metadata": {},
     "output_type": "execute_result"
    }
   ],
   "source": [
    "##features solved \n",
    "solved_info_file = 'solved_features.txt'\n",
    "solved_info = pd.read_csv(solved_info_file, delimiter='\\t',index_col=\"summary\")\n",
    "solved_info.head()"
   ]
  },
  {
   "cell_type": "code",
   "execution_count": 18,
   "metadata": {},
   "outputs": [
    {
     "data": {
      "image/png": "[encoded data removed]",
      "text/plain": [
       "<Figure size 432x288 with 1 Axes>"
      ]
     },
     "metadata": {
      "needs_background": "light"
     },
     "output_type": "display_data"
    }
   ],
   "source": [
    "##then graph\n",
    "solved_info.plot(kind='bar',stacked=True)\n",
    "plt.savefig(\"solved_features.barchart.051321.pdf\", bbox_inches=\"tight\")"
   ]
  },
  {
   "cell_type": "code",
   "execution_count": 19,
   "metadata": {},
   "outputs": [
    {
     "data": {
      "text/html": [
       "<div>\n",
       "<style scoped>\n",
       "    .dataframe tbody tr th:only-of-type {\n",
       "        vertical-align: middle;\n",
       "    }\n",
       "\n",
       "    .dataframe tbody tr th {\n",
       "        vertical-align: top;\n",
       "    }\n",
       "\n",
       "    .dataframe thead th {\n",
       "        text-align: right;\n",
       "    }\n",
       "</style>\n",
       "<table border=\"1\" class=\"dataframe\">\n",
       "  <thead>\n",
       "    <tr style=\"text-align: right;\">\n",
       "      <th></th>\n",
       "      <th>Explanatory</th>\n",
       "      <th>Explanatory (by another method)</th>\n",
       "      <th>Likely explanatory</th>\n",
       "      <th>Partially explanatory</th>\n",
       "      <th>Candidate gene</th>\n",
       "      <th>Not explanatory</th>\n",
       "    </tr>\n",
       "    <tr>\n",
       "      <th>summary</th>\n",
       "      <th></th>\n",
       "      <th></th>\n",
       "      <th></th>\n",
       "      <th></th>\n",
       "      <th></th>\n",
       "      <th></th>\n",
       "    </tr>\n",
       "  </thead>\n",
       "  <tbody>\n",
       "    <tr>\n",
       "      <th>NL</th>\n",
       "      <td>32</td>\n",
       "      <td>4</td>\n",
       "      <td>17</td>\n",
       "      <td>5</td>\n",
       "      <td>19</td>\n",
       "      <td>79</td>\n",
       "    </tr>\n",
       "    <tr>\n",
       "      <th>MAC</th>\n",
       "      <td>18</td>\n",
       "      <td>5</td>\n",
       "      <td>14</td>\n",
       "      <td>2</td>\n",
       "      <td>13</td>\n",
       "      <td>25</td>\n",
       "    </tr>\n",
       "    <tr>\n",
       "      <th>MIC</th>\n",
       "      <td>21</td>\n",
       "      <td>2</td>\n",
       "      <td>26</td>\n",
       "      <td>2</td>\n",
       "      <td>26</td>\n",
       "      <td>57</td>\n",
       "    </tr>\n",
       "  </tbody>\n",
       "</table>\n",
       "</div>"
      ],
      "text/plain": [
       "         Explanatory  Explanatory (by another method)  Likely explanatory  \\\n",
       "summary                                                                     \n",
       "NL                32                                4                  17   \n",
       "MAC               18                                5                  14   \n",
       "MIC               21                                2                  26   \n",
       "\n",
       "         Partially explanatory  Candidate gene  Not explanatory  \n",
       "summary                                                          \n",
       "NL                           5              19               79  \n",
       "MAC                          2              13               25  \n",
       "MIC                          2              26               57  "
      ]
     },
     "execution_count": 19,
     "metadata": {},
     "output_type": "execute_result"
    }
   ],
   "source": [
    "##head size solved \n",
    "solved_info_file = 'solved_head_size.txt'\n",
    "solved_info = pd.read_csv(solved_info_file, delimiter='\\t',index_col=\"summary\")\n",
    "solved_info.head()"
   ]
  },
  {
   "cell_type": "code",
   "execution_count": 20,
   "metadata": {},
   "outputs": [
    {
     "data": {
      "image/png": "[encoded data removed]",
      "text/plain": [
       "<Figure size 432x288 with 1 Axes>"
      ]
     },
     "metadata": {
      "needs_background": "light"
     },
     "output_type": "display_data"
    }
   ],
   "source": [
    "##then graph\n",
    "solved_info.plot(kind='bar',stacked=True)\n",
    "plt.savefig(\"solved_head_size.barchart.051321.pdf\", bbox_inches=\"tight\")"
   ]
  },
  {
   "cell_type": "code",
   "execution_count": 21,
   "metadata": {},
   "outputs": [
    {
     "data": {
      "text/html": [
       "<div>\n",
       "<style scoped>\n",
       "    .dataframe tbody tr th:only-of-type {\n",
       "        vertical-align: middle;\n",
       "    }\n",
       "\n",
       "    .dataframe tbody tr th {\n",
       "        vertical-align: top;\n",
       "    }\n",
       "\n",
       "    .dataframe thead th {\n",
       "        text-align: right;\n",
       "    }\n",
       "</style>\n",
       "<table border=\"1\" class=\"dataframe\">\n",
       "  <thead>\n",
       "    <tr style=\"text-align: right;\">\n",
       "      <th></th>\n",
       "      <th>Explanatory</th>\n",
       "      <th>Explanatory (by another method)</th>\n",
       "      <th>Likely explanatory</th>\n",
       "      <th>Partially explanatory</th>\n",
       "      <th>Candidate gene</th>\n",
       "      <th>Not explanatory</th>\n",
       "    </tr>\n",
       "    <tr>\n",
       "      <th>summary</th>\n",
       "      <th></th>\n",
       "      <th></th>\n",
       "      <th></th>\n",
       "      <th></th>\n",
       "      <th></th>\n",
       "      <th></th>\n",
       "    </tr>\n",
       "  </thead>\n",
       "  <tbody>\n",
       "    <tr>\n",
       "      <th>0</th>\n",
       "      <td>22</td>\n",
       "      <td>1</td>\n",
       "      <td>19</td>\n",
       "      <td>3</td>\n",
       "      <td>21</td>\n",
       "      <td>54</td>\n",
       "    </tr>\n",
       "    <tr>\n",
       "      <th>1</th>\n",
       "      <td>23</td>\n",
       "      <td>2</td>\n",
       "      <td>21</td>\n",
       "      <td>4</td>\n",
       "      <td>22</td>\n",
       "      <td>64</td>\n",
       "    </tr>\n",
       "    <tr>\n",
       "      <th>2</th>\n",
       "      <td>25</td>\n",
       "      <td>6</td>\n",
       "      <td>14</td>\n",
       "      <td>3</td>\n",
       "      <td>16</td>\n",
       "      <td>66</td>\n",
       "    </tr>\n",
       "    <tr>\n",
       "      <th>3</th>\n",
       "      <td>15</td>\n",
       "      <td>2</td>\n",
       "      <td>12</td>\n",
       "      <td>1</td>\n",
       "      <td>12</td>\n",
       "      <td>39</td>\n",
       "    </tr>\n",
       "    <tr>\n",
       "      <th>4</th>\n",
       "      <td>8</td>\n",
       "      <td>2</td>\n",
       "      <td>9</td>\n",
       "      <td>1</td>\n",
       "      <td>7</td>\n",
       "      <td>15</td>\n",
       "    </tr>\n",
       "  </tbody>\n",
       "</table>\n",
       "</div>"
      ],
      "text/plain": [
       "         Explanatory  Explanatory (by another method)  Likely explanatory  \\\n",
       "summary                                                                     \n",
       "0                 22                                1                  19   \n",
       "1                 23                                2                  21   \n",
       "2                 25                                6                  14   \n",
       "3                 15                                2                  12   \n",
       "4                  8                                2                   9   \n",
       "\n",
       "         Partially explanatory  Candidate gene  Not explanatory  \n",
       "summary                                                          \n",
       "0                            3              21               54  \n",
       "1                            4              22               64  \n",
       "2                            3              16               66  \n",
       "3                            1              12               39  \n",
       "4                            1               7               15  "
      ]
     },
     "execution_count": 21,
     "metadata": {},
     "output_type": "execute_result"
    }
   ],
   "source": [
    "##head size solved \n",
    "solved_info_file = 'solved_feature_count.txt'\n",
    "solved_info = pd.read_csv(solved_info_file, delimiter='\\t',index_col=\"summary\")\n",
    "solved_info.head()"
   ]
  },
  {
   "cell_type": "code",
   "execution_count": 22,
   "metadata": {},
   "outputs": [
    {
     "data": {
      "image/png": "[encoded data removed]",
      "text/plain": [
       "<Figure size 432x288 with 1 Axes>"
      ]
     },
     "metadata": {
      "needs_background": "light"
     },
     "output_type": "display_data"
    }
   ],
   "source": [
    "##then graph\n",
    "solved_info.plot(kind='bar',stacked=True)\n",
    "plt.savefig(\"solved_feature_counts.barchart.051321.pdf\", bbox_inches=\"tight\")"
   ]
  },
  {
   "cell_type": "code",
   "execution_count": 25,
   "metadata": {},
   "outputs": [
    {
     "data": {
      "text/html": [
       "<div>\n",
       "<style scoped>\n",
       "    .dataframe tbody tr th:only-of-type {\n",
       "        vertical-align: middle;\n",
       "    }\n",
       "\n",
       "    .dataframe tbody tr th {\n",
       "        vertical-align: top;\n",
       "    }\n",
       "\n",
       "    .dataframe thead th {\n",
       "        text-align: right;\n",
       "    }\n",
       "</style>\n",
       "<table border=\"1\" class=\"dataframe\">\n",
       "  <thead>\n",
       "    <tr style=\"text-align: right;\">\n",
       "      <th></th>\n",
       "      <th>Explanatory</th>\n",
       "      <th>Explanatory (by another method)</th>\n",
       "      <th>Likely explanatory</th>\n",
       "      <th>Partially explanatory</th>\n",
       "      <th>Candidate gene</th>\n",
       "      <th>Not explanatory</th>\n",
       "    </tr>\n",
       "    <tr>\n",
       "      <th>summary</th>\n",
       "      <th></th>\n",
       "      <th></th>\n",
       "      <th></th>\n",
       "      <th></th>\n",
       "      <th></th>\n",
       "      <th></th>\n",
       "    </tr>\n",
       "  </thead>\n",
       "  <tbody>\n",
       "    <tr>\n",
       "      <th>MHM</th>\n",
       "      <td>30</td>\n",
       "      <td>8</td>\n",
       "      <td>24</td>\n",
       "      <td>6</td>\n",
       "      <td>24</td>\n",
       "      <td>93</td>\n",
       "    </tr>\n",
       "    <tr>\n",
       "      <th>Other</th>\n",
       "      <td>7</td>\n",
       "      <td>0</td>\n",
       "      <td>8</td>\n",
       "      <td>0</td>\n",
       "      <td>5</td>\n",
       "      <td>15</td>\n",
       "    </tr>\n",
       "    <tr>\n",
       "      <th>MEG</th>\n",
       "      <td>18</td>\n",
       "      <td>2</td>\n",
       "      <td>15</td>\n",
       "      <td>3</td>\n",
       "      <td>18</td>\n",
       "      <td>51</td>\n",
       "    </tr>\n",
       "    <tr>\n",
       "      <th>MCD</th>\n",
       "      <td>21</td>\n",
       "      <td>1</td>\n",
       "      <td>7</td>\n",
       "      <td>2</td>\n",
       "      <td>10</td>\n",
       "      <td>38</td>\n",
       "    </tr>\n",
       "    <tr>\n",
       "      <th>MIC</th>\n",
       "      <td>18</td>\n",
       "      <td>2</td>\n",
       "      <td>19</td>\n",
       "      <td>2</td>\n",
       "      <td>18</td>\n",
       "      <td>33</td>\n",
       "    </tr>\n",
       "  </tbody>\n",
       "</table>\n",
       "</div>"
      ],
      "text/plain": [
       "         Explanatory  Explanatory (by another method)  Likely explanatory  \\\n",
       "summary                                                                     \n",
       "MHM               30                                8                  24   \n",
       "Other              7                                0                   8   \n",
       "MEG               18                                2                  15   \n",
       "MCD               21                                1                   7   \n",
       "MIC               18                                2                  19   \n",
       "\n",
       "         Partially explanatory  Candidate gene  Not explanatory  \n",
       "summary                                                          \n",
       "MHM                          6              24               93  \n",
       "Other                        0               5               15  \n",
       "MEG                          3              18               51  \n",
       "MCD                          2              10               38  \n",
       "MIC                          2              18               33  "
      ]
     },
     "execution_count": 25,
     "metadata": {},
     "output_type": "execute_result"
    }
   ],
   "source": [
    "##dx1 solved \n",
    "solved_info_file = 'solved_dx1.txt'\n",
    "solved_info = pd.read_csv(solved_info_file, delimiter='\\t',index_col=\"summary\")\n",
    "solved_info.head()"
   ]
  },
  {
   "cell_type": "code",
   "execution_count": 26,
   "metadata": {},
   "outputs": [
    {
     "data": {
      "image/png": "[encoded data removed]",
      "text/plain": [
       "<Figure size 432x288 with 1 Axes>"
      ]
     },
     "metadata": {
      "needs_background": "light"
     },
     "output_type": "display_data"
    }
   ],
   "source": [
    "##then graph\n",
    "solved_info.plot(kind='bar',stacked=True)\n",
    "plt.savefig(\"solved_dx1.barchart.051321.pdf\", bbox_inches=\"tight\")"
   ]
  },
  {
   "cell_type": "code",
   "execution_count": null,
   "metadata": {},
   "outputs": [],
   "source": []
  }
 ],
 "metadata": {
  "kernelspec": {
   "display_name": "Python 3",
   "language": "python",
   "name": "python3"
  },
  "language_info": {
   "codemirror_mode": {
    "name": "ipython",
    "version": 3
   },
   "file_extension": ".py",
   "mimetype": "text/x-python",
   "name": "python",
   "nbconvert_exporter": "python",
   "pygments_lexer": "ipython3",
   "version": "3.8.0"
  }
 },
 "nbformat": 4,
 "nbformat_minor": 4
}
